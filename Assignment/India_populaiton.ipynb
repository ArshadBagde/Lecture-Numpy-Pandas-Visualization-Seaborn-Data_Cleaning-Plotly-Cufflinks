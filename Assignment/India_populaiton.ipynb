{
 "cells": [
  {
   "cell_type": "code",
   "execution_count": 2,
   "metadata": {},
   "outputs": [],
   "source": [
    "import pandas as pd\n",
    "import numpy as np"
   ]
  },
  {
   "cell_type": "code",
   "execution_count": 3,
   "metadata": {},
   "outputs": [
    {
     "name": "stdout",
     "output_type": "stream",
     "text": [
      "(36, 8)\n"
     ]
    },
    {
     "data": {
      "text/html": [
       "<div>\n",
       "<style scoped>\n",
       "    .dataframe tbody tr th:only-of-type {\n",
       "        vertical-align: middle;\n",
       "    }\n",
       "\n",
       "    .dataframe tbody tr th {\n",
       "        vertical-align: top;\n",
       "    }\n",
       "\n",
       "    .dataframe thead th {\n",
       "        text-align: right;\n",
       "    }\n",
       "</style>\n",
       "<table border=\"1\" class=\"dataframe\">\n",
       "  <thead>\n",
       "    <tr style=\"text-align: right;\">\n",
       "      <th></th>\n",
       "      <th>Sno</th>\n",
       "      <th>Region</th>\n",
       "      <th>State / Union Territory</th>\n",
       "      <th>Population</th>\n",
       "      <th>Rural population</th>\n",
       "      <th>Urban population</th>\n",
       "      <th>Area</th>\n",
       "      <th>Gender Ratio</th>\n",
       "    </tr>\n",
       "  </thead>\n",
       "  <tbody>\n",
       "    <tr>\n",
       "      <th>0</th>\n",
       "      <td>1</td>\n",
       "      <td>North</td>\n",
       "      <td>Uttar Pradesh</td>\n",
       "      <td>199812341</td>\n",
       "      <td>155317278</td>\n",
       "      <td>44495063</td>\n",
       "      <td>240,928 km2</td>\n",
       "      <td>912</td>\n",
       "    </tr>\n",
       "    <tr>\n",
       "      <th>1</th>\n",
       "      <td>2</td>\n",
       "      <td>West</td>\n",
       "      <td>Maharashtra</td>\n",
       "      <td>112374333</td>\n",
       "      <td>61556074</td>\n",
       "      <td>50818259</td>\n",
       "      <td>307,713 km2</td>\n",
       "      <td>929</td>\n",
       "    </tr>\n",
       "    <tr>\n",
       "      <th>2</th>\n",
       "      <td>3</td>\n",
       "      <td>North</td>\n",
       "      <td>Bihar</td>\n",
       "      <td>104099452</td>\n",
       "      <td>92341436</td>\n",
       "      <td>11758016</td>\n",
       "      <td>94,163 km2</td>\n",
       "      <td>918</td>\n",
       "    </tr>\n",
       "    <tr>\n",
       "      <th>3</th>\n",
       "      <td>4</td>\n",
       "      <td>East</td>\n",
       "      <td>West Bengal</td>\n",
       "      <td>91276115</td>\n",
       "      <td>62183113</td>\n",
       "      <td>29093002</td>\n",
       "      <td>88,752 km2</td>\n",
       "      <td>953</td>\n",
       "    </tr>\n",
       "    <tr>\n",
       "      <th>4</th>\n",
       "      <td>5</td>\n",
       "      <td>Cntral</td>\n",
       "      <td>Madhya Pradesh</td>\n",
       "      <td>72626809</td>\n",
       "      <td>52557404</td>\n",
       "      <td>20069405</td>\n",
       "      <td>308,245 km2</td>\n",
       "      <td>931</td>\n",
       "    </tr>\n",
       "  </tbody>\n",
       "</table>\n",
       "</div>"
      ],
      "text/plain": [
       "   Sno  Region State / Union Territory  Population  Rural population  \\\n",
       "0    1   North           Uttar Pradesh   199812341         155317278   \n",
       "1    2    West             Maharashtra   112374333          61556074   \n",
       "2    3   North                   Bihar   104099452          92341436   \n",
       "3    4    East             West Bengal    91276115          62183113   \n",
       "4    5  Cntral          Madhya Pradesh    72626809          52557404   \n",
       "\n",
       "   Urban population          Area  Gender Ratio  \n",
       "0          44495063  240,928 km2            912  \n",
       "1          50818259  307,713 km2            929  \n",
       "2          11758016   94,163 km2            918  \n",
       "3          29093002   88,752 km2            953  \n",
       "4          20069405   308,245 km2           931  "
      ]
     },
     "execution_count": 3,
     "metadata": {},
     "output_type": "execute_result"
    }
   ],
   "source": [
    "df = pd.read_csv('population_india_census2011.csv', encoding= 'unicode_escape')\n",
    "print(df.shape)\n",
    "df.head()"
   ]
  },
  {
   "cell_type": "code",
   "execution_count": 4,
   "metadata": {},
   "outputs": [
    {
     "name": "stdout",
     "output_type": "stream",
     "text": [
      "<class 'pandas.core.frame.DataFrame'>\n",
      "RangeIndex: 36 entries, 0 to 35\n",
      "Data columns (total 8 columns):\n",
      " #   Column                   Non-Null Count  Dtype \n",
      "---  ------                   --------------  ----- \n",
      " 0   Sno                      36 non-null     int64 \n",
      " 1   Region                   36 non-null     object\n",
      " 2   State / Union Territory  36 non-null     object\n",
      " 3   Population               36 non-null     int64 \n",
      " 4   Rural population         36 non-null     int64 \n",
      " 5   Urban population         36 non-null     int64 \n",
      " 6   Area                     36 non-null     object\n",
      " 7   Gender Ratio             36 non-null     int64 \n",
      "dtypes: int64(5), object(3)\n",
      "memory usage: 2.4+ KB\n"
     ]
    }
   ],
   "source": [
    "df.info()"
   ]
  },
  {
   "cell_type": "code",
   "execution_count": 5,
   "metadata": {},
   "outputs": [
    {
     "data": {
      "text/html": [
       "<div>\n",
       "<style scoped>\n",
       "    .dataframe tbody tr th:only-of-type {\n",
       "        vertical-align: middle;\n",
       "    }\n",
       "\n",
       "    .dataframe tbody tr th {\n",
       "        vertical-align: top;\n",
       "    }\n",
       "\n",
       "    .dataframe thead th {\n",
       "        text-align: right;\n",
       "    }\n",
       "</style>\n",
       "<table border=\"1\" class=\"dataframe\">\n",
       "  <thead>\n",
       "    <tr style=\"text-align: right;\">\n",
       "      <th></th>\n",
       "      <th>Sno</th>\n",
       "      <th>Region</th>\n",
       "      <th>State / Union Territory</th>\n",
       "      <th>Population</th>\n",
       "      <th>Rural population</th>\n",
       "      <th>Urban population</th>\n",
       "      <th>Area</th>\n",
       "      <th>Gender Ratio</th>\n",
       "    </tr>\n",
       "  </thead>\n",
       "  <tbody>\n",
       "    <tr>\n",
       "      <th>0</th>\n",
       "      <td>1</td>\n",
       "      <td>North</td>\n",
       "      <td>Uttar Pradesh</td>\n",
       "      <td>199812341</td>\n",
       "      <td>155317278</td>\n",
       "      <td>44495063</td>\n",
       "      <td>240,928 km2</td>\n",
       "      <td>912</td>\n",
       "    </tr>\n",
       "    <tr>\n",
       "      <th>1</th>\n",
       "      <td>2</td>\n",
       "      <td>West</td>\n",
       "      <td>Maharashtra</td>\n",
       "      <td>112374333</td>\n",
       "      <td>61556074</td>\n",
       "      <td>50818259</td>\n",
       "      <td>307,713 km2</td>\n",
       "      <td>929</td>\n",
       "    </tr>\n",
       "    <tr>\n",
       "      <th>2</th>\n",
       "      <td>3</td>\n",
       "      <td>North</td>\n",
       "      <td>Bihar</td>\n",
       "      <td>104099452</td>\n",
       "      <td>92341436</td>\n",
       "      <td>11758016</td>\n",
       "      <td>94,163 km2</td>\n",
       "      <td>918</td>\n",
       "    </tr>\n",
       "    <tr>\n",
       "      <th>3</th>\n",
       "      <td>4</td>\n",
       "      <td>East</td>\n",
       "      <td>West Bengal</td>\n",
       "      <td>91276115</td>\n",
       "      <td>62183113</td>\n",
       "      <td>29093002</td>\n",
       "      <td>88,752 km2</td>\n",
       "      <td>953</td>\n",
       "    </tr>\n",
       "    <tr>\n",
       "      <th>4</th>\n",
       "      <td>5</td>\n",
       "      <td>Cntral</td>\n",
       "      <td>Madhya Pradesh</td>\n",
       "      <td>72626809</td>\n",
       "      <td>52557404</td>\n",
       "      <td>20069405</td>\n",
       "      <td>308,245 km2</td>\n",
       "      <td>931</td>\n",
       "    </tr>\n",
       "  </tbody>\n",
       "</table>\n",
       "</div>"
      ],
      "text/plain": [
       "   Sno  Region State / Union Territory  Population  Rural population  \\\n",
       "0    1   North           Uttar Pradesh   199812341         155317278   \n",
       "1    2    West             Maharashtra   112374333          61556074   \n",
       "2    3   North                   Bihar   104099452          92341436   \n",
       "3    4    East             West Bengal    91276115          62183113   \n",
       "4    5  Cntral          Madhya Pradesh    72626809          52557404   \n",
       "\n",
       "   Urban population          Area  Gender Ratio  \n",
       "0          44495063  240,928 km2            912  \n",
       "1          50818259  307,713 km2            929  \n",
       "2          11758016   94,163 km2            918  \n",
       "3          29093002   88,752 km2            953  \n",
       "4          20069405   308,245 km2           931  "
      ]
     },
     "execution_count": 5,
     "metadata": {},
     "output_type": "execute_result"
    }
   ],
   "source": [
    "df.head()"
   ]
  },
  {
   "cell_type": "code",
   "execution_count": 6,
   "metadata": {},
   "outputs": [
    {
     "data": {
      "text/plain": [
       "array(['Uttar Pradesh', 'Maharashtra', 'Bihar', 'West Bengal',\n",
       "       'Madhya Pradesh', 'Tamil Nadu', 'Rajasthan', 'Karnataka',\n",
       "       'Gujarat', 'Andhra Pradesh', 'Odisha', 'Telengana', 'Kerala',\n",
       "       'Jharkhand', 'Assam', 'Punjab', 'Chhattisgarh', 'Haryana',\n",
       "       'Uttarakhand', 'Himachal Pradesh', 'Tripura', 'Meghalaya',\n",
       "       'Manipur', 'Nagaland', 'Goa', 'Arunachal Pradesh', 'Mizoram',\n",
       "       'Sikkim', 'Delhi', 'Jammu and Kashmir', 'Puducherry', 'Chandigarh',\n",
       "       'Dadra and Nagar Haveli and Daman and Diu',\n",
       "       'Andaman and Nicobar Islands', 'Ladakh', 'Lakshadweep'],\n",
       "      dtype=object)"
      ]
     },
     "execution_count": 6,
     "metadata": {},
     "output_type": "execute_result"
    }
   ],
   "source": [
    "# Get a list or array of all the 'State/Union Territory' the data set\n",
    "lst_states = df['State / Union Territory'].unique()\n",
    "lst_states"
   ]
  },
  {
   "cell_type": "code",
   "execution_count": 7,
   "metadata": {},
   "outputs": [
    {
     "data": {
      "text/plain": [
       "0    North\n",
       "Name: Region, dtype: object"
      ]
     },
     "execution_count": 7,
     "metadata": {},
     "output_type": "execute_result"
    }
   ],
   "source": [
    "# What is the most populated region\n",
    "high_pop = df['Population'].max()\n",
    "high_pop = df[df['Population'] == high_pop]\n",
    "high_pop['Region']"
   ]
  },
  {
   "cell_type": "code",
   "execution_count": 8,
   "metadata": {},
   "outputs": [
    {
     "data": {
      "text/plain": [
       "27"
      ]
     },
     "execution_count": 8,
     "metadata": {},
     "output_type": "execute_result"
    }
   ],
   "source": [
    "# How many states/UT have gender ratio greater than 900\n",
    "len(df[df['Gender Ratio'] > 900])"
   ]
  },
  {
   "cell_type": "code",
   "execution_count": 9,
   "metadata": {},
   "outputs": [],
   "source": [
    "pradesh_state = []\n",
    "for state in lst_states:\n",
    "    if state[-7:] == 'Pradesh':\n",
    "        pradesh_state.append(state)"
   ]
  },
  {
   "cell_type": "code",
   "execution_count": 10,
   "metadata": {},
   "outputs": [
    {
     "name": "stdout",
     "output_type": "stream",
     "text": [
      "['Uttar Pradesh', 'Madhya Pradesh', 'Andhra Pradesh', 'Himachal Pradesh', 'Arunachal Pradesh']\n"
     ]
    },
    {
     "data": {
      "text/plain": [
       "5"
      ]
     },
     "execution_count": 10,
     "metadata": {},
     "output_type": "execute_result"
    }
   ],
   "source": [
    "print(pradesh_state)\n",
    "len(pradesh_state)"
   ]
  },
  {
   "cell_type": "code",
   "execution_count": 11,
   "metadata": {},
   "outputs": [
    {
     "data": {
      "text/plain": [
       "['240,928',\n",
       " '307,713',\n",
       " '94,163',\n",
       " '88,752',\n",
       " '308,245',\n",
       " '130,058',\n",
       " '342,239',\n",
       " '191,791',\n",
       " '196,024',\n",
       " '162,968',\n",
       " '155,707',\n",
       " '112,077',\n",
       " '38,863',\n",
       " '79,714',\n",
       " '78,438',\n",
       " '50,362',\n",
       " '135,191',\n",
       " '44,212',\n",
       " '53,483',\n",
       " '55,673',\n",
       " '10,486',\n",
       " '22,429',\n",
       " '22,327',\n",
       " '16,579',\n",
       " '3,702',\n",
       " '83,743',\n",
       " '21,081',\n",
       " '7,096',\n",
       " '1,484',\n",
       " '125,535',\n",
       " '479',\n",
       " '114',\n",
       " '603',\n",
       " '8,249',\n",
       " '96,701',\n",
       " '32']"
      ]
     },
     "execution_count": 11,
     "metadata": {},
     "output_type": "execute_result"
    }
   ],
   "source": [
    "# Add a Column that calculates the density of poopulation in each states/UT\n",
    "pop_lst = []\n",
    "for i in df['Area']:\n",
    "    num = i[:-4]\n",
    "    pop_lst.append(num.strip())\n",
    "pop_lst"
   ]
  },
  {
   "cell_type": "code",
   "execution_count": 12,
   "metadata": {},
   "outputs": [],
   "source": [
    "df['Area(KM2)'] = np.asarray(pop_lst)"
   ]
  },
  {
   "cell_type": "code",
   "execution_count": 13,
   "metadata": {},
   "outputs": [],
   "source": [
    "df['Area(KM2)'] = df['Area(KM2)'].apply(lambda x: x.replace(',','',).strip())\n",
    "df['Area(KM2)'] = df['Area(KM2)'].astype('int64')"
   ]
  },
  {
   "cell_type": "code",
   "execution_count": 14,
   "metadata": {},
   "outputs": [],
   "source": [
    "# df.info()\n",
    "df['density_population(km2)'] = df['Population'] / df['Area(KM2)']"
   ]
  },
  {
   "cell_type": "code",
   "execution_count": 15,
   "metadata": {},
   "outputs": [
    {
     "data": {
      "text/plain": [
       "0     3.490663\n",
       "1     1.211298\n",
       "2     7.853488\n",
       "3     2.137391\n",
       "4     2.618782\n",
       "5     1.066218\n",
       "6     3.020888\n",
       "7     1.585939\n",
       "8     1.347621\n",
       "9     2.393273\n",
       "10    4.993187\n",
       "11    1.572161\n",
       "12    1.096405\n",
       "13    3.158311\n",
       "14    6.094527\n",
       "15    1.667848\n",
       "16    3.302540\n",
       "17    1.867130\n",
       "18    2.307699\n",
       "19    8.969620\n",
       "20    2.821213\n",
       "21    3.982600\n",
       "22    2.310161\n",
       "23    2.465184\n",
       "24    0.608428\n",
       "25    3.359994\n",
       "26    0.918961\n",
       "27    2.975680\n",
       "28    0.025600\n",
       "29    2.830082\n",
       "30    0.463440\n",
       "31    0.028244\n",
       "32    0.711489\n",
       "33    1.652354\n",
       "34    0.190476\n",
       "35    0.280954\n",
       "dtype: float64"
      ]
     },
     "execution_count": 15,
     "metadata": {},
     "output_type": "execute_result"
    }
   ],
   "source": [
    "# Which states have the highest division between rural and urban population\n",
    "(df['Rural population'] / df['Urban population'])"
   ]
  },
  {
   "cell_type": "code",
   "execution_count": 16,
   "metadata": {},
   "outputs": [
    {
     "data": {
      "text/html": [
       "<div>\n",
       "<style scoped>\n",
       "    .dataframe tbody tr th:only-of-type {\n",
       "        vertical-align: middle;\n",
       "    }\n",
       "\n",
       "    .dataframe tbody tr th {\n",
       "        vertical-align: top;\n",
       "    }\n",
       "\n",
       "    .dataframe thead th {\n",
       "        text-align: right;\n",
       "    }\n",
       "</style>\n",
       "<table border=\"1\" class=\"dataframe\">\n",
       "  <thead>\n",
       "    <tr style=\"text-align: right;\">\n",
       "      <th></th>\n",
       "      <th>Sno</th>\n",
       "      <th>Region</th>\n",
       "      <th>State / Union Territory</th>\n",
       "      <th>Population</th>\n",
       "      <th>Rural population</th>\n",
       "      <th>Urban population</th>\n",
       "      <th>Area</th>\n",
       "      <th>Gender Ratio</th>\n",
       "      <th>Area(KM2)</th>\n",
       "      <th>density_population(km2)</th>\n",
       "    </tr>\n",
       "  </thead>\n",
       "  <tbody>\n",
       "    <tr>\n",
       "      <th>18</th>\n",
       "      <td>19</td>\n",
       "      <td>North</td>\n",
       "      <td>Uttarakhand</td>\n",
       "      <td>10086292</td>\n",
       "      <td>7036954</td>\n",
       "      <td>3049338</td>\n",
       "      <td>53,483 km2</td>\n",
       "      <td>963</td>\n",
       "      <td>53483</td>\n",
       "      <td>188.588748</td>\n",
       "    </tr>\n",
       "  </tbody>\n",
       "</table>\n",
       "</div>"
      ],
      "text/plain": [
       "    Sno Region State / Union Territory  Population  Rural population  \\\n",
       "18   19  North             Uttarakhand    10086292           7036954   \n",
       "\n",
       "    Urban population        Area  Gender Ratio  Area(KM2)  \\\n",
       "18           3049338  53,483 km2           963      53483   \n",
       "\n",
       "    density_population(km2)  \n",
       "18               188.588748  "
      ]
     },
     "execution_count": 16,
     "metadata": {},
     "output_type": "execute_result"
    }
   ],
   "source": [
    "df[df['Sno'] == 19]"
   ]
  },
  {
   "cell_type": "code",
   "execution_count": 17,
   "metadata": {},
   "outputs": [],
   "source": [
    "# Your taks to print state here......"
   ]
  },
  {
   "cell_type": "code",
   "execution_count": null,
   "metadata": {},
   "outputs": [],
   "source": []
  }
 ],
 "metadata": {
  "kernelspec": {
   "display_name": "Python 3",
   "language": "python",
   "name": "python3"
  },
  "language_info": {
   "codemirror_mode": {
    "name": "ipython",
    "version": 3
   },
   "file_extension": ".py",
   "mimetype": "text/x-python",
   "name": "python",
   "nbconvert_exporter": "python",
   "pygments_lexer": "ipython3",
   "version": "3.7.4"
  }
 },
 "nbformat": 4,
 "nbformat_minor": 4
}
